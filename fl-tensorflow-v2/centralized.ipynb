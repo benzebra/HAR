{
 "cells": [
  {
   "cell_type": "code",
   "execution_count": 3,
   "metadata": {},
   "outputs": [],
   "source": [
    "import pandas as pd\n",
    "import tensorflow as tf\n",
    "import numpy as np\n",
    "import io \n",
    "from PIL import Image\n",
    "from sklearn.model_selection import train_test_split"
   ]
  },
  {
   "cell_type": "code",
   "execution_count": 6,
   "metadata": {},
   "outputs": [],
   "source": [
    "# import dati\n",
    "DF_FEM = pd.read_parquet(\"hf://datasets/flwrlabs/femnist/data/train-00000-of-00001.parquet\")\n",
    "DF_WRITERS = DF_FEM[\"writer_id\"].unique()\n",
    "\n",
    "# ID_DF_FEM = DF_FEM[DF_FEM[\"writer_id\"] == DF_WRITERS[id]]\n",
    "images = []\n",
    "for img_dict in DF_FEM['image']:\n",
    "    img_bytes = img_dict['bytes']\n",
    "    img = Image.open(io.BytesIO(img_bytes)).convert('L')    # 'L' per convertire in scala di grigi\n",
    "    img_array = np.array(img).reshape(28, 28, 1)\n",
    "    images.append(img_array)\n",
    "images = np.array(images).astype(np.float32) / 255.0        # Normalizza le immagini (da 0 a 1)\n",
    "X = images\n",
    "Y = DF_FEM.iloc[:, 3]"
   ]
  },
  {
   "cell_type": "code",
   "execution_count": 7,
   "metadata": {},
   "outputs": [
    {
     "name": "stdout",
     "output_type": "stream",
     "text": [
      "(814277, 28, 28, 1)\n",
      "(814277,)\n"
     ]
    }
   ],
   "source": [
    "print(X.shape)\n",
    "print(Y.shape)"
   ]
  },
  {
   "cell_type": "markdown",
   "metadata": {},
   "source": [
    "---"
   ]
  },
  {
   "cell_type": "code",
   "execution_count": 8,
   "metadata": {},
   "outputs": [],
   "source": [
    "# featmaps = [32, 64, 128]                                        # Example values for feature maps (number of filters)\n",
    "# kernels = [3, 3, 3]                                             # Example kernel sizes\n",
    "# first_linear_size = featmaps[2] * kernels[2] * kernels[2]       # Example size after flattening (depends on input size and feature maps)\n",
    "# linears = [512, 256, 62]                                        # Example sizes of the fully connected layers\n",
    "# num_classes = 62                                                # Number of classes in FEMNIST"
   ]
  },
  {
   "cell_type": "code",
   "execution_count": 9,
   "metadata": {},
   "outputs": [],
   "source": [
    "# model = tf.keras.Sequential([\n",
    "#     tf.keras.layers.Input(shape=(28, 28, 1)),\n",
    "#     tf.keras.layers.Conv2D(filters=featmaps[0], kernel_size=kernels[0], padding='same', activation='relu'),\n",
    "#     tf.keras.layers.MaxPool2D(pool_size=(2,2), strides=(2,2), padding='valid'),\n",
    "#     tf.keras.layers.Conv2D(filters=featmaps[1], kernel_size=kernels[1], padding='same', activation='relu'),\n",
    "#     tf.keras.layers.MaxPool2D(pool_size=(2,2), strides=(2,2), padding='valid'),\n",
    "#     tf.keras.layers.Conv2D(filters=featmaps[2], kernel_size=kernels[2], padding='same', activation='relu'),\n",
    "#     tf.keras.layers.MaxPool2D(pool_size=(2,2), strides=(2,2), padding='valid'),\n",
    "#     tf.keras.layers.Flatten(),\n",
    "#     tf.keras.layers.Dense(linears[0], activation='relu'),\n",
    "#     tf.keras.layers.Dense(linears[1]),\n",
    "#     tf.keras.layers.Dense(num_classes, activation='log_softmax'),\n",
    "# ])\n",
    "# model.compile(\"adam\", loss=\"sparse_categorical_crossentropy\", metrics=[\"accuracy\"])\n",
    "\n",
    "model = tf.keras.Sequential([\n",
    "    tf.keras.layers.Input(shape=(28, 28, 1)),\n",
    "    tf.keras.layers.Conv2D(32, kernel_size=(3, 3), activation=\"relu\"),\n",
    "    tf.keras.layers.MaxPooling2D(pool_size=(2, 2)),\n",
    "    tf.keras.layers.Conv2D(64, kernel_size=(3, 3), activation=\"relu\"),\n",
    "    tf.keras.layers.MaxPooling2D(pool_size=(2, 2)),\n",
    "    tf.keras.layers.Conv2D(128, kernel_size=(3, 3), activation=\"relu\"),\n",
    "    tf.keras.layers.MaxPooling2D(pool_size=(2, 2)),\n",
    "    tf.keras.layers.Flatten(),\n",
    "    tf.keras.layers.Dropout(0.2),\n",
    "    tf.keras.layers.Dense(62, activation=\"softmax\"),\n",
    "])\n",
    "model.compile(\"adam\", loss=\"sparse_categorical_crossentropy\", metrics=[\"accuracy\"])"
   ]
  },
  {
   "cell_type": "code",
   "execution_count": 10,
   "metadata": {},
   "outputs": [],
   "source": [
    "x_train, x_test, y_train, y_test = train_test_split(X, Y, random_state=42, test_size=0.3)\n",
    "x_train, x_val, y_train, y_val = train_test_split(x_train, y_train, random_state=42, test_size=0.3)\n",
    "\n",
    "train_dataset = tf.data.Dataset.from_tensor_slices((x_train, y_train)).batch(32).prefetch(tf.data.AUTOTUNE)\n",
    "val_dataset = tf.data.Dataset.from_tensor_slices((x_val, y_val)).batch(32).prefetch(tf.data.AUTOTUNE)\n",
    "test_dataset = tf.data.Dataset.from_tensor_slices((x_test, y_test)).batch(32).prefetch(tf.data.AUTOTUNE)"
   ]
  },
  {
   "cell_type": "code",
   "execution_count": 11,
   "metadata": {},
   "outputs": [
    {
     "name": "stdout",
     "output_type": "stream",
     "text": [
      "12469\n",
      "7634\n",
      "5344\n"
     ]
    }
   ],
   "source": [
    "print(len(train_dataset))\n",
    "print(len(test_dataset))\n",
    "print(len(val_dataset))"
   ]
  },
  {
   "cell_type": "markdown",
   "metadata": {},
   "source": [
    "Using tf.data.Dataset.from_tensor_slices"
   ]
  },
  {
   "cell_type": "code",
   "execution_count": 12,
   "metadata": {},
   "outputs": [],
   "source": [
    "history = model.fit(train_dataset, epochs=20, batch_size=32, verbose=0, validation_data=val_dataset)"
   ]
  },
  {
   "cell_type": "code",
   "execution_count": 13,
   "metadata": {},
   "outputs": [
    {
     "name": "stdout",
     "output_type": "stream",
     "text": [
      "0.8628113269805908\n"
     ]
    }
   ],
   "source": [
    "loss, accuracy = model.evaluate(test_dataset, verbose=0)\n",
    "print(accuracy)"
   ]
  },
  {
   "cell_type": "markdown",
   "metadata": {},
   "source": [
    "aggiugnere validation set-"
   ]
  },
  {
   "cell_type": "code",
   "execution_count": 14,
   "metadata": {},
   "outputs": [],
   "source": [
    "y_pred = model.predict(x_test, verbose=0)"
   ]
  },
  {
   "cell_type": "code",
   "execution_count": 15,
   "metadata": {},
   "outputs": [
    {
     "name": "stdout",
     "output_type": "stream",
     "text": [
      "568345    43\n",
      "102796    57\n",
      "346529     1\n",
      "34036     36\n",
      "286429    38\n",
      "          ..\n",
      "434331    24\n",
      "569218    23\n",
      "569754    43\n",
      "17337     27\n",
      "32461     14\n",
      "Name: character, Length: 244284, dtype: int64\n"
     ]
    }
   ],
   "source": [
    "from sklearn.metrics import accuracy_score\n",
    "\n",
    "# y_test = y_test.to_numpy()\n",
    "print(y_test)\n",
    "y_pred = np.argmax(y_pred, axis=1)\n",
    "accuracy = accuracy_score(y_test, y_pred)"
   ]
  },
  {
   "cell_type": "code",
   "execution_count": 16,
   "metadata": {},
   "outputs": [
    {
     "data": {
      "text/plain": [
       "array([ 0,  1,  2,  3,  4,  5,  6,  7,  8,  9, 10, 11, 12, 13, 14, 15, 16,\n",
       "       17, 18, 19, 20, 21, 22, 23, 24, 25, 26, 27, 28, 29, 30, 31, 32, 33,\n",
       "       34, 35, 36, 37, 38, 39, 40, 41, 42, 43, 44, 45, 46, 47, 48, 49, 50,\n",
       "       51, 52, 53, 54, 55, 56, 57, 58, 59, 60, 61])"
      ]
     },
     "execution_count": 16,
     "metadata": {},
     "output_type": "execute_result"
    }
   ],
   "source": [
    "np.unique(y_pred)"
   ]
  },
  {
   "cell_type": "code",
   "execution_count": 17,
   "metadata": {},
   "outputs": [
    {
     "name": "stdout",
     "output_type": "stream",
     "text": [
      "0.8628113179741612\n"
     ]
    }
   ],
   "source": [
    "print(accuracy)"
   ]
  },
  {
   "cell_type": "code",
   "execution_count": 18,
   "metadata": {},
   "outputs": [
    {
     "data": {
      "text/plain": [
       "0.4042328894138336"
      ]
     },
     "execution_count": 18,
     "metadata": {},
     "output_type": "execute_result"
    }
   ],
   "source": [
    "loss"
   ]
  },
  {
   "cell_type": "code",
   "execution_count": null,
   "metadata": {},
   "outputs": [],
   "source": []
  }
 ],
 "metadata": {
  "kernelspec": {
   "display_name": "Python 3",
   "language": "python",
   "name": "python3"
  },
  "language_info": {
   "codemirror_mode": {
    "name": "ipython",
    "version": 3
   },
   "file_extension": ".py",
   "mimetype": "text/x-python",
   "name": "python",
   "nbconvert_exporter": "python",
   "pygments_lexer": "ipython3",
   "version": "3.12.2"
  }
 },
 "nbformat": 4,
 "nbformat_minor": 2
}
