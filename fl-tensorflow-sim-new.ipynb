{
 "cells": [
  {
   "cell_type": "code",
   "execution_count": 1,
   "metadata": {},
   "outputs": [],
   "source": [
    "import numpy as np\n",
    "import pandas as pd\n",
    "import seaborn as sns\n",
    "import matplotlib.pyplot as plt\n",
    "\n",
    "from typing import Dict, List, Tuple\n",
    "\n",
    "import tensorflow as tf\n",
    "\n",
    "import flwr as fl\n",
    "from flwr.common import Metrics\n",
    "from flwr.simulation.ray_transport.utils import enable_tf_gpu_growth\n",
    "\n",
    "from sklearn.model_selection import train_test_split"
   ]
  },
  {
   "cell_type": "code",
   "execution_count": 3,
   "metadata": {},
   "outputs": [],
   "source": [
    "# Loading of the datasets\n",
    "X_TEST = \"UCI_HAR_Dataset/test/X_test.txt\"\n",
    "Y_TEST = \"UCI_HAR_Dataset/test/y_test.txt\"\n",
    "X_TRAIN = \"UCI_HAR_Dataset/train/X_train.txt\"\n",
    "Y_TRAIN = \"UCI_HAR_Dataset/train/y_train.txt\"\n",
    "PATHCOL = \"UCI_HAR_Dataset/features.txt\"\n",
    "USER_TEST = \"UCI_HAR_Dataset/test/subject_test.txt\"\n",
    "USER_TRAIN = \"UCI_HAR_Dataset/train/subject_train.txt\"\n",
    "\n",
    "\n",
    "DF_X_TEST = pd.read_fwf(X_TEST, header=None)\n",
    "DF_Y_TEST = pd.read_fwf(Y_TEST, header=None)\n",
    "DF_X_TRAIN = pd.read_fwf(X_TRAIN, header=None)\n",
    "DF_Y_TRAIN = pd.read_fwf(Y_TRAIN, header=None)\n",
    "DF_PATHCOL = pd.read_fwf(PATHCOL, header=None)\n",
    "DF_USER_TEST = pd.read_fwf(USER_TEST, header=None, widths=[2])\n",
    "DF_USER_TRAIN = pd.read_fwf(USER_TRAIN, header=None, widths=[2])\n",
    "\n",
    "\n",
    "DF_TEST = pd.concat([DF_USER_TEST, DF_Y_TEST, DF_X_TEST], axis=1, ignore_index=True)\n",
    "DF_TRAIN = pd.concat([DF_USER_TRAIN, DF_Y_TRAIN, DF_X_TRAIN], axis=1, ignore_index=True)\n",
    "DF = pd.concat([DF_TRAIN, DF_TEST], axis=0, ignore_index=True)\n",
    "\n",
    "DF_X_TRAIN_USER = pd.concat([DF_USER_TRAIN, DF_X_TRAIN], axis=1, ignore_index=True)\n",
    "DF_X_TEST_USER = pd.concat([DF_USER_TEST, DF_X_TEST], axis=1, ignore_index=True)\n",
    "DF_X = pd.concat([DF_X_TRAIN_USER, DF_X_TEST_USER], axis=0, ignore_index=True)\n",
    "DF_Y = pd.concat([DF_Y_TRAIN, DF_Y_TEST], axis=0, ignore_index=True)\n",
    "\n",
    "DF = pd.concat([DF_X, DF_Y], axis=1, ignore_index=True)\n",
    "tmp_array = []\n",
    "index_mat = []\n",
    "\n",
    "for user in np.unique(DF[0]):\n",
    "    tmp_array = DF[DF[0] == user]\n",
    "    index_mat.append(tmp_array)\n",
    "    tmp_array = []"
   ]
  },
  {
   "cell_type": "code",
   "execution_count": null,
   "metadata": {},
   "outputs": [],
   "source": []
  }
 ],
 "metadata": {
  "kernelspec": {
   "display_name": "Python 3",
   "language": "python",
   "name": "python3"
  },
  "language_info": {
   "codemirror_mode": {
    "name": "ipython",
    "version": 3
   },
   "file_extension": ".py",
   "mimetype": "text/x-python",
   "name": "python",
   "nbconvert_exporter": "python",
   "pygments_lexer": "ipython3",
   "version": "3.12.2"
  }
 },
 "nbformat": 4,
 "nbformat_minor": 2
}
