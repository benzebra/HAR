{
 "cells": [
  {
   "cell_type": "markdown",
   "metadata": {},
   "source": [
    "| # | strategy            | accuracy (train) | accuracy (test)|\n",
    "|---|---------------------|------------------|----------------|\n",
    "| 1 | x -> y              | 98%              | 92,7%          |\n",
    "| 2 | clean(x) -> y       |                  |                |\n",
    "| 3 | clean(x) + sbj -> y | 98% - ?          | 92,6% - ?      |\n",
    "\n",
    "RandomForest -- n_estimators = 100, random_state = 42"
   ]
  },
  {
   "cell_type": "code",
   "execution_count": 6,
   "metadata": {},
   "outputs": [],
   "source": [
    "import pandas as pd\n",
    "from sklearn.model_selection import train_test_split\n"
   ]
  },
  {
   "cell_type": "code",
   "execution_count": 4,
   "metadata": {},
   "outputs": [],
   "source": [
    "PATH_TRAIN_X = \"../UCI_HAR_Dataset/train/X_train.txt\"\n",
    "PATH_TRAIN_Y = \"../UCI_HAR_Dataset/train/y_train.txt\"\n",
    "\n",
    "PATH_TEST_X = \"../UCI_HAR_Dataset/test/X_test.txt\"\n",
    "PATH_TEST_Y = \"../UCI_HAR_Dataset/test/y_test.txt\"\n",
    "\n",
    "PATH_TRAIN_SBJ = \"../UCI_HAR_Dataset/train/subject_train.txt\"\n",
    "\n",
    "PATH_TEST_SBJ = \"../UCI_HAR_Dataset/test/subject_test.txt\"\n",
    "\n",
    "PATH_FT = \"../UCI_HAR_Dataset/features.txt\"\n",
    "features = pd.read_csv(PATH_FT, sep=\" \", header=None, index_col=0).reset_index()"
   ]
  },
  {
   "cell_type": "code",
   "execution_count": 36,
   "metadata": {},
   "outputs": [
    {
     "name": "stdout",
     "output_type": "stream",
     "text": [
      "x_train shape: (7352, 562)\n",
      "y_train shape: (7352, 2)\n",
      "sbj_train shape: (7352, 1)\n"
     ]
    }
   ],
   "source": [
    "df_x_train = pd.read_fwf(PATH_TRAIN_X, header=None)\n",
    "df_x_train.rename(columns=features[1], inplace=True)\n",
    "\n",
    "df_sbj_train = pd.read_fwf(PATH_TRAIN_SBJ, header=None)\n",
    "df_x_train['user'] = df_sbj_train.values\n",
    "\n",
    "y_train_col = pd.read_fwf(PATH_TRAIN_Y, header=None)\n",
    "y_train_col['user'] = df_sbj_train\n",
    "\n",
    "# creo lista di df per ogni utente (sia X che y)\n",
    "df_x_train_list = [df_x_train[df_x_train.iloc[:, 561] == utente] for utente in range(1, 31)]\n",
    "y_train_col_list = [y_train_col[y_train_col.iloc[:, 1] == utente] for utente in range(1, 31)]\n",
    "\n",
    "print(f\"x_train shape: {df_x_train.shape}\\ny_train shape: {y_train_col.shape}\\nsbj_train shape: {df_sbj_train.shape}\")"
   ]
  },
  {
   "cell_type": "code",
   "execution_count": 50,
   "metadata": {},
   "outputs": [
    {
     "name": "stdout",
     "output_type": "stream",
     "text": [
      "SPLITTING\n",
      "X_train shape: (1685, 562)\n",
      "X_test shape: (723, 562)\n",
      "y_train shape: (1685, 2)\n",
      "y_test shape: (723, 2)\n",
      "\n",
      "SPLITTING\n",
      "X_train shape: (2102, 562)\n",
      "X_test shape: (902, 562)\n",
      "y_train shape: (2102, 2)\n",
      "y_test shape: (902, 2)\n",
      "\n",
      "SPLITTING\n",
      "X_train shape: (506, 562)\n",
      "X_test shape: (218, 562)\n",
      "y_train shape: (506, 2)\n",
      "y_test shape: (218, 2)\n",
      "\n",
      "no data from user 4\n",
      "\n",
      "SPLITTING\n",
      "X_train shape: (211, 562)\n",
      "X_test shape: (91, 562)\n",
      "y_train shape: (211, 2)\n",
      "y_test shape: (91, 2)\n",
      "\n",
      "SPLITTING\n",
      "X_train shape: (227, 562)\n",
      "X_test shape: (98, 562)\n",
      "y_train shape: (227, 2)\n",
      "y_test shape: (98, 2)\n",
      "\n",
      "SPLITTING\n",
      "X_train shape: (215, 562)\n",
      "X_test shape: (93, 562)\n",
      "y_train shape: (215, 2)\n",
      "y_test shape: (93, 2)\n",
      "\n",
      "SPLITTING\n",
      "X_train shape: (196, 562)\n",
      "X_test shape: (85, 562)\n",
      "y_train shape: (196, 2)\n",
      "y_test shape: (85, 2)\n",
      "\n",
      "no data from user 9\n",
      "\n",
      "no data from user 10\n",
      "\n",
      "no data from user 11\n",
      "\n",
      "no data from user 12\n",
      "\n",
      "no data from user 13\n",
      "\n",
      "no data from user 14\n",
      "\n",
      "no data from user 15\n",
      "\n",
      "no data from user 16\n",
      "\n",
      "no data from user 17\n",
      "\n",
      "no data from user 18\n",
      "\n",
      "no data from user 19\n",
      "\n",
      "no data from user 20\n",
      "\n",
      "no data from user 21\n",
      "\n",
      "no data from user 22\n",
      "\n",
      "no data from user 23\n",
      "\n",
      "no data from user 24\n",
      "\n",
      "no data from user 25\n",
      "\n",
      "no data from user 26\n",
      "\n",
      "no data from user 27\n",
      "\n",
      "no data from user 28\n",
      "\n",
      "no data from user 29\n",
      "\n",
      "no data from user 30\n",
      "\n"
     ]
    }
   ],
   "source": [
    "# SPLITTING\n",
    "for user in range(30):\n",
    "    if len(df_x_train_list[user] != 0):    \n",
    "        X_train, X_test, y_train, y_test = train_test_split(df_x_train_list[user], y_train_col_list[user], random_state=42, test_size=0.3)\n",
    "        print(f\"SPLITTING\\nX_train shape: {X_train.shape}\\nX_test shape: {X_test.shape}\\ny_train shape: {y_train.shape}\\ny_test shape: {y_test.shape}\\n\")\n",
    "    else:\n",
    "        print(f\"no data from user {user+1}\\n\")"
   ]
  }
 ],
 "metadata": {
  "kernelspec": {
   "display_name": "Python 3",
   "language": "python",
   "name": "python3"
  },
  "language_info": {
   "codemirror_mode": {
    "name": "ipython",
    "version": 3
   },
   "file_extension": ".py",
   "mimetype": "text/x-python",
   "name": "python",
   "nbconvert_exporter": "python",
   "pygments_lexer": "ipython3",
   "version": "3.12.2"
  }
 },
 "nbformat": 4,
 "nbformat_minor": 2
}
